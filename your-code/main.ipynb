{
 "cells": [
  {
   "cell_type": "markdown",
   "metadata": {},
   "source": [
    "# Lab | Numpy Deep Dive"
   ]
  },
  {
   "cell_type": "markdown",
   "metadata": {},
   "source": [
    "### 1. Import the NUMPY package under the name np.\n"
   ]
  },
  {
   "cell_type": "code",
   "execution_count": 3,
   "metadata": {},
   "outputs": [],
   "source": [
    "### [your code here]\n",
    "import numpy as np\n"
   ]
  },
  {
   "cell_type": "markdown",
   "metadata": {},
   "source": [
    "\n",
    "\n",
    "### 2. Print the NUMPY version and the configuration.\n"
   ]
  },
  {
   "cell_type": "code",
   "execution_count": 5,
   "metadata": {},
   "outputs": [
    {
     "name": "stdout",
     "output_type": "stream",
     "text": [
      "2.2.3\n",
      "Defaulting to user installation because normal site-packages is not writeable\n",
      "Requirement already satisfied: numpy in c:\\users\\vanuhi\\appdata\\roaming\\python\\python312\\site-packages (2.2.3)\n",
      "2.2.3\n"
     ]
    }
   ],
   "source": [
    "### [your code here]\n",
    "print(np.__version__)\n",
    "# print(np.version.version) # same with different syntax\n",
    "\n",
    "#upgrading my numpy\n",
    "!pip install numpy --upgrade\n",
    "print(np.version.version) # still print the old version(??)"
   ]
  },
  {
   "cell_type": "markdown",
   "metadata": {},
   "source": [
    "### 3. Generate a 2x3x5 3-dimensional array with random values. Assign the array to variable \"a\"\n",
    "Challenge: there are at least three easy ways that use numpy to generate random arrays. How many ways can you find?\n"
   ]
  },
  {
   "cell_type": "code",
   "execution_count": 7,
   "metadata": {},
   "outputs": [
    {
     "name": "stdout",
     "output_type": "stream",
     "text": [
      "[[[54  9 24  8 46]\n",
      "  [ 0 93 70 19 82]\n",
      "  [52 30 96 93 73]]\n",
      "\n",
      " [[63 77 35 18 28]\n",
      "  [97 39 89 59 68]\n",
      "  [39 58 84 57 18]]]\n",
      "a: number of dimensions : 3 shape : (2, 3, 5)\n",
      "[[[23 51 77  4 26]\n",
      "  [13 92 48 51 58]\n",
      "  [77 82 17 48 72]]\n",
      "\n",
      " [[ 3 51 95 71 25]\n",
      "  [47 99 58 24 29]\n",
      "  [73 33 11 10 72]]]\n",
      "b: number of dimensions : 3 shape : (2, 3, 5)\n",
      "[[[0.42802796 0.54820839 0.16059798 0.58302211 0.24424561]\n",
      "  [0.35349117 0.10753617 0.12507152 0.8477803  0.29230142]\n",
      "  [0.24552003 0.33062094 0.96595851 0.22591887 0.7389598 ]]\n",
      "\n",
      " [[0.13694553 0.01333654 0.90902438 0.62009913 0.03034124]\n",
      "  [0.80345224 0.08912936 0.0858824  0.73468614 0.37371638]\n",
      "  [0.44095683 0.49034316 0.09515491 0.96274613 0.43252335]]]\n",
      "c: number of dimensions : 3 shape : (2, 3, 5)\n",
      "[[[ 5  1 21 85 51]\n",
      "  [17  7 37 74 21]\n",
      "  [44 29 61 15 78]]\n",
      "\n",
      " [[62 14 92 81 87]\n",
      "  [24 61 93 26 77]\n",
      "  [81 63 57 10 22]]]\n",
      "d: number of dimensions : 3 shape : (2, 3, 5)\n"
     ]
    }
   ],
   "source": [
    "### [your code here]\n",
    "import random\n",
    "\n",
    "# using random list\n",
    "x = [random.randint(0,100) for i in range(30)] # total number of elements\n",
    "y = [random.randint(0,100) for i in range(6)] \n",
    "\n",
    "a = np.array(x).reshape(2,3,5)\n",
    "print(a)\n",
    "print('a: number of dimensions :', a.ndim, 'shape :', a.shape)\n",
    "\n",
    "# using randint directly\n",
    "b = np.random.randint(0,100, size=(2,3,5))\n",
    "print(b)\n",
    "print('b: number of dimensions :', b.ndim, 'shape :', b.shape)\n",
    "\n",
    "# using random\n",
    "c = np.random.rand(2,3,5)\n",
    "print(c)\n",
    "print('c: number of dimensions :', c.ndim, 'shape :', c.shape)\n",
    "\n",
    "# .array() with premade list\n",
    "z = [[[random.randint(0,100) for i in range(5)] for j in range(3)] for k in range(2)] \n",
    "d = np.array(z, ndmin=3)\n",
    "print(d)\n",
    "print('d: number of dimensions :', d.ndim, 'shape :', d.shape)\n",
    "\n",
    "\n",
    "# b = np.full((2,3,5), y) # same val on each line -> error if y > n (lowest dimension val)\n",
    "# print(b)\n",
    "# print('number of dimensions :', b.ndim)\n",
    "\n",
    "\n",
    "# c = np.array([1, 2, 3, 4], ndmin=3) # creates matrioshka\n",
    "# print(c)\n",
    "# print('number of dimensions :', c.ndim)\n",
    "\n"
   ]
  },
  {
   "cell_type": "markdown",
   "metadata": {},
   "source": [
    "\n",
    "### 4. Print a.\n"
   ]
  },
  {
   "cell_type": "code",
   "execution_count": 9,
   "metadata": {},
   "outputs": [
    {
     "name": "stdout",
     "output_type": "stream",
     "text": [
      "[[[54  9 24  8 46]\n",
      "  [ 0 93 70 19 82]\n",
      "  [52 30 96 93 73]]\n",
      "\n",
      " [[63 77 35 18 28]\n",
      "  [97 39 89 59 68]\n",
      "  [39 58 84 57 18]]]\n"
     ]
    }
   ],
   "source": [
    "### [your code here]\n",
    "print(a)"
   ]
  },
  {
   "cell_type": "markdown",
   "metadata": {},
   "source": [
    "### 5. Create a 5x2x3 3-dimensional array with all values equaling 1.\n",
    "### Assign the array to variable \"b\"\n"
   ]
  },
  {
   "cell_type": "code",
   "execution_count": 11,
   "metadata": {},
   "outputs": [],
   "source": [
    "### [your code here]\n",
    "b = np.ones((5,2,3))\n",
    "c = np.full((5,2,3), 1)"
   ]
  },
  {
   "cell_type": "markdown",
   "metadata": {},
   "source": [
    "\n",
    "### 6. Print b.\n"
   ]
  },
  {
   "cell_type": "code",
   "execution_count": 13,
   "metadata": {},
   "outputs": [
    {
     "name": "stdout",
     "output_type": "stream",
     "text": [
      "[[[1. 1. 1.]\n",
      "  [1. 1. 1.]]\n",
      "\n",
      " [[1. 1. 1.]\n",
      "  [1. 1. 1.]]\n",
      "\n",
      " [[1. 1. 1.]\n",
      "  [1. 1. 1.]]\n",
      "\n",
      " [[1. 1. 1.]\n",
      "  [1. 1. 1.]]\n",
      "\n",
      " [[1. 1. 1.]\n",
      "  [1. 1. 1.]]] b: dimensions :  3  shape :  (5, 2, 3) <class 'numpy.float64'>\n",
      "[[[1 1 1]\n",
      "  [1 1 1]]\n",
      "\n",
      " [[1 1 1]\n",
      "  [1 1 1]]\n",
      "\n",
      " [[1 1 1]\n",
      "  [1 1 1]]\n",
      "\n",
      " [[1 1 1]\n",
      "  [1 1 1]]\n",
      "\n",
      " [[1 1 1]\n",
      "  [1 1 1]]] c: dimensions :  3  shape :  (5, 2, 3) <class 'numpy.float64'>\n"
     ]
    }
   ],
   "source": [
    "### [your code here]\n",
    "print(b, \"b: dimensions : \", b.ndim, \" shape : \", b.shape, type(b[0,0,0]))\n",
    "print(c, \"c: dimensions : \", b.ndim, \" shape : \", c.shape, type(b[0,0,0]))\n",
    "\n",
    "# same type different formatting? - A: np.full fills array with a given value in float while keeping the input look(aka not adding the dot)\n"
   ]
  },
  {
   "cell_type": "markdown",
   "metadata": {},
   "source": [
    "\n",
    "### 7. Do a and b have the same size? How do you prove that in Python code?\n"
   ]
  },
  {
   "cell_type": "code",
   "execution_count": 15,
   "metadata": {},
   "outputs": [
    {
     "name": "stdout",
     "output_type": "stream",
     "text": [
      "Yes, sizes of a and b are equal\n"
     ]
    }
   ],
   "source": [
    "### [your code here]\n",
    "\n",
    "if a.size == b.size:\n",
    "    print(\"Yes, sizes of a and b are equal\")\n",
    "else:\n",
    "    print(\"No, a and b have different sizes\")"
   ]
  },
  {
   "cell_type": "markdown",
   "metadata": {},
   "source": [
    "\n",
    "### 8. Are you able to add a and b? Why or why not?\n"
   ]
  },
  {
   "cell_type": "code",
   "execution_count": 17,
   "metadata": {},
   "outputs": [
    {
     "name": "stdout",
     "output_type": "stream",
     "text": [
      "[[[55. 10. 25.  9. 47.]\n",
      "  [ 1. 94. 71. 20. 83.]\n",
      "  [53. 31. 97. 94. 74.]]\n",
      "\n",
      " [[64. 78. 36. 19. 29.]\n",
      "  [98. 40. 90. 60. 69.]\n",
      "  [40. 59. 85. 58. 19.]]]\n"
     ]
    }
   ],
   "source": [
    "### [your code here]\n",
    "# print(a + b) # !different shapes - can't add <-  can add if \"broadcastable\"\n",
    "\n",
    "print(a + b.reshape(2,3,5))"
   ]
  },
  {
   "cell_type": "markdown",
   "metadata": {},
   "source": [
    "\n",
    "\n",
    "### 9. Transpose b so that it has the same structure of a (i.e. become a 2x3x5 array). Assign the transposed array to varialbe \"c\".\n"
   ]
  },
  {
   "cell_type": "code",
   "execution_count": 19,
   "metadata": {},
   "outputs": [],
   "source": [
    "### [your code here]\n",
    "c = b.reshape(2,3,5)"
   ]
  },
  {
   "cell_type": "markdown",
   "metadata": {},
   "source": [
    "\n",
    "### 10. Try to add a and c. Now it should work. Assign the sum to variable \"d\". But why does it work now?\n"
   ]
  },
  {
   "cell_type": "code",
   "execution_count": 21,
   "metadata": {},
   "outputs": [
    {
     "name": "stdout",
     "output_type": "stream",
     "text": [
      "[[[55. 10. 25.  9. 47.]\n",
      "  [ 1. 94. 71. 20. 83.]\n",
      "  [53. 31. 97. 94. 74.]]\n",
      "\n",
      " [[64. 78. 36. 19. 29.]\n",
      "  [98. 40. 90. 60. 69.]\n",
      "  [40. 59. 85. 58. 19.]]]\n",
      "[[[ 5  1 21 85 51]\n",
      "  [17  7 37 74 21]\n",
      "  [44 29 61 15 78]]\n",
      "\n",
      " [[62 14 92 81 87]\n",
      "  [24 61 93 26 77]\n",
      "  [81 63 57 10 22]]] 3 (2, 3, 5)\n",
      "[[[ 5  1 21 85 51]\n",
      "  [17  7 37 74 21]\n",
      "  [44 29 61 15 78]]\n",
      "\n",
      " [[62 14 92 81 87]\n",
      "  [24 61 93 26 77]\n",
      "  [81 63 57 10 22]]] 3 (2, 3, 5)\n",
      "braodcasting check :\n",
      " [[[[ 59  10  45  93  97]\n",
      "   [  5  94  91 104 133]\n",
      "   [ 57  31 117 178 124]]\n",
      "\n",
      "  [[ 80  84  72  92  49]\n",
      "   [114  46 126 133  89]\n",
      "   [ 56  65 121 131  39]]]\n",
      "\n",
      "\n",
      " [[[ 98  38  85  23 124]\n",
      "   [ 44 122 131  34 160]\n",
      "   [ 96  59 157 108 151]]\n",
      "\n",
      "  [[125  91 127  99 115]\n",
      "   [159  53 181 140 155]\n",
      "   [101  72 176 138 105]]]\n",
      "\n",
      "\n",
      " [[[ 78  70 117  34 123]\n",
      "   [ 24 154 163  45 159]\n",
      "   [ 76  91 189 119 150]]\n",
      "\n",
      "  [[144 140  92  28  50]\n",
      "   [178 102 146  69  90]\n",
      "   [120 121 141  67  40]]]]\n"
     ]
    }
   ],
   "source": [
    "### [your code here]\n",
    "d = a + c # a and c have same dimensionality\n",
    "print(d)\n",
    "\n",
    "# broadcasting test\n",
    "test_arr = np.array(z, ndmin=2)  \n",
    "print(test_arr, test_arr.ndim, test_arr.shape)\n",
    "# print(\"braodcasting check :\\n\",a + test_arr) # value error - 2,3,5 to 1,6 \n",
    "\n",
    "test_arr1 = test_arr.reshape(3,2,1,5)\n",
    "print(test_arr, test_arr.ndim, test_arr.shape)\n",
    "print(\"braodcasting check :\\n\",a + test_arr1) # broadcasting check - from right to left dim_m(..,n,..) == dim_k(..,n,..) | dim_m(..,n,..) & dim_k(..,1,..) \n"
   ]
  },
  {
   "cell_type": "markdown",
   "metadata": {},
   "source": [
    "\n",
    "### 11. Print a and d. Notice the difference and relation of the two array in terms of the values? Explain.\n"
   ]
  },
  {
   "cell_type": "code",
   "execution_count": 23,
   "metadata": {},
   "outputs": [
    {
     "name": "stdout",
     "output_type": "stream",
     "text": [
      "a array\n",
      " [[[54  9 24  8 46]\n",
      "  [ 0 93 70 19 82]\n",
      "  [52 30 96 93 73]]\n",
      "\n",
      " [[63 77 35 18 28]\n",
      "  [97 39 89 59 68]\n",
      "  [39 58 84 57 18]]] \n",
      "d array:\n",
      " [[[55. 10. 25.  9. 47.]\n",
      "  [ 1. 94. 71. 20. 83.]\n",
      "  [53. 31. 97. 94. 74.]]\n",
      "\n",
      " [[64. 78. 36. 19. 29.]\n",
      "  [98. 40. 90. 60. 69.]\n",
      "  [40. 59. 85. 58. 19.]]]\n",
      "they have equal shapes and dimensions, with d = a + 1 for each value\n"
     ]
    }
   ],
   "source": [
    "### [your code here]\n",
    "print(\"a array\\n\", a,\"\\nd array:\\n\", d)\n",
    "\n",
    "if (a.shape == d.shape) & (a.ndim == d.ndim):\n",
    "    print(\"they have equal shapes and dimensions, with d = a + 1 for each value\")"
   ]
  },
  {
   "cell_type": "markdown",
   "metadata": {},
   "source": [
    "\n",
    "### 12. Multiply a and c. Assign the result to e.\n"
   ]
  },
  {
   "cell_type": "code",
   "execution_count": 25,
   "metadata": {},
   "outputs": [],
   "source": [
    "### [your code here]\n",
    "e = a*c"
   ]
  },
  {
   "cell_type": "markdown",
   "metadata": {},
   "source": [
    "\n",
    "\n",
    "### 13. Does e equal to a? Why or why not?\n"
   ]
  },
  {
   "cell_type": "code",
   "execution_count": 27,
   "metadata": {},
   "outputs": [
    {
     "name": "stdout",
     "output_type": "stream",
     "text": [
      "[[[54  9 24  8 46]\n",
      "  [ 0 93 70 19 82]\n",
      "  [52 30 96 93 73]]\n",
      "\n",
      " [[63 77 35 18 28]\n",
      "  [97 39 89 59 68]\n",
      "  [39 58 84 57 18]]] 3 (2, 3, 5)\n",
      "[[[54.  9. 24.  8. 46.]\n",
      "  [ 0. 93. 70. 19. 82.]\n",
      "  [52. 30. 96. 93. 73.]]\n",
      "\n",
      " [[63. 77. 35. 18. 28.]\n",
      "  [97. 39. 89. 59. 68.]\n",
      "  [39. 58. 84. 57. 18.]]] 3 (2, 3, 5)\n",
      "They are equal, becasue is e = a*c, where c contains only 1s\n"
     ]
    }
   ],
   "source": [
    "### [your code here]\n",
    "\n",
    "print(a, a.ndim, a.shape)\n",
    "print(e, e.ndim, e.shape)\n",
    "\n",
    "if np.array_equal(a,e):\n",
    "    print(\"They are equal, becasue is e = a*c, where c contains only 1s\")\n",
    "else:\n",
    "    print(\"They are not equal\")\n"
   ]
  },
  {
   "cell_type": "markdown",
   "metadata": {},
   "source": [
    "\n",
    "\n",
    "### 14. Identify the max, min, and mean values in d. Assign those values to variables \"d_max\", \"d_min\", and \"d_mean\"\n"
   ]
  },
  {
   "cell_type": "code",
   "execution_count": 29,
   "metadata": {},
   "outputs": [
    {
     "name": "stdout",
     "output_type": "stream",
     "text": [
      "For the d array:\n",
      "max is: 98.0\n",
      "min is: 1.0\n",
      "mean is: 54\n"
     ]
    }
   ],
   "source": [
    "### [your code here]\n",
    "d_max = np.max(d)\n",
    "d_min = np.min(d)\n",
    "d_mean = np.mean(d)\n",
    "\n",
    "print(f\"For the d array:\\nmax is: {d_max}\\nmin is: {d_min}\\nmean is: {round(d_mean)}\")\n"
   ]
  },
  {
   "cell_type": "markdown",
   "metadata": {},
   "source": [
    "\n",
    "### 15. Now we want to label the values in d. First create an empty array \"f\" with the same shape (i.e. 2x3x5) as d using `np.empty`.\n"
   ]
  },
  {
   "cell_type": "code",
   "execution_count": 31,
   "metadata": {},
   "outputs": [],
   "source": [
    "### [your code here]\n",
    "f = np.empty(d.shape)\n",
    "\n",
    "# print(d.shape)\n",
    "\n",
    "# f = np.empty((2,3,5))\n",
    "# print(f,\"\\n\",d)"
   ]
  },
  {
   "cell_type": "markdown",
   "metadata": {},
   "source": [
    "\n",
    "\n",
    "\n",
    "### 16. Populate the values in f. For each value in d, if it's larger than d_min but smaller than d_mean, assign 25 to the corresponding value in f.\n",
    "If a value in d is larger than d_mean but smaller than d_max, assign 75 to the corresponding value in f.\n",
    "If a value equals to d_mean, assign 50 to the corresponding value in f.\n",
    "Assign 0 to the corresponding value(s) in f for d_min in d.\n",
    "Assign 100 to the corresponding value(s) in f for d_max in d.\n",
    "In the end, f should have only the following values: 0, 25, 50, 75, and 100.\n",
    "Note: you don't have to use Numpy in this question.\n",
    "\n"
   ]
  },
  {
   "cell_type": "code",
   "execution_count": 33,
   "metadata": {},
   "outputs": [],
   "source": [
    "### [your code here]\n",
    "for i in range(d.shape[0]):\n",
    "    for j in range(d.shape[1]):\n",
    "        for k in range(d.shape[2]):\n",
    "            if (d[i,j,k] > d_min) and (d[i,j,k] < d_mean):\n",
    "                f[i,j,k] = 25\n",
    "            elif (d[i,j,k] > d_mean) and (d[i,j,k] < d_max):\n",
    "                f[i,j,k] = 75\n",
    "            elif d[i,j,k] == d_mean:\n",
    "                f[i,j,k] = 50\n",
    "            elif d[i,j,k] == d_min:\n",
    "                f[i,j,k] = 0\n",
    "            elif d[i,j,k] == d_max:\n",
    "                f[i,j,k] = 100"
   ]
  },
  {
   "cell_type": "markdown",
   "metadata": {},
   "source": [
    "\n",
    "\n",
    "\n",
    "\n",
    "### 17. Print d and f. Do you have your expected f?\n",
    "For instance, if your d is:\n",
    "array([[[1.85836099, 1.67064465, 1.62576044, 1.40243961, 1.88454931],\n",
    "        [1.75354326, 1.69403643, 1.36729252, 1.61415071, 1.12104981],\n",
    "        [1.72201435, 1.1862918 , 1.87078449, 1.7726778 , 1.88180042]],\n",
    "\n",
    "       [[1.44747908, 1.31673383, 1.02000951, 1.52218947, 1.97066381],\n",
    "        [1.79129243, 1.74983003, 1.96028037, 1.85166831, 1.65450881],\n",
    "        [1.18068344, 1.9587381 , 1.00656599, 1.93402165, 1.73514584]]])\n",
    "\n",
    "Your f should be:\n",
    "array([[[ 75.,  75.,  75.,  25.,  75.],\n",
    "        [ 75.,  75.,  25.,  25.,  25.],\n",
    "        [ 75.,  25.,  75.,  75.,  75.]],\n",
    "\n",
    "       [[ 25.,  25.,  25.,  25., 100.],\n",
    "        [ 75.,  75.,  75.,  75.,  75.],\n",
    "        [ 25.,  75.,   0.,  75.,  75.]]])\n",
    "\n"
   ]
  },
  {
   "cell_type": "code",
   "execution_count": 35,
   "metadata": {
    "scrolled": true
   },
   "outputs": [
    {
     "name": "stdout",
     "output_type": "stream",
     "text": [
      "[[[55. 10. 25.  9. 47.]\n",
      "  [ 1. 94. 71. 20. 83.]\n",
      "  [53. 31. 97. 94. 74.]]\n",
      "\n",
      " [[64. 78. 36. 19. 29.]\n",
      "  [98. 40. 90. 60. 69.]\n",
      "  [40. 59. 85. 58. 19.]]]\n",
      " [[[ 75.  25.  25.  25.  25.]\n",
      "  [  0.  75.  75.  25.  75.]\n",
      "  [ 25.  25.  75.  75.  75.]]\n",
      "\n",
      " [[ 75.  75.  25.  25.  25.]\n",
      "  [100.  25.  75.  75.  75.]\n",
      "  [ 25.  75.  75.  75.  25.]]]\n"
     ]
    }
   ],
   "source": [
    "### [your code here]\n",
    "print(d, \"\\n\", f)"
   ]
  },
  {
   "cell_type": "markdown",
   "metadata": {},
   "source": [
    "### 18. Bonus question: instead of using numbers (i.e. 0, 25, 50, 75, and 100), how to use string values \n",
    "(\"A\", \"B\", \"C\", \"D\", and \"E\") to label the array elements? You are expecting the result to be:\n",
    "array([[[ 'D',  'D',  'D',  'B',  'D'],\n",
    "        [ 'D',  'D',  'B',  'B',  'B'],\n",
    "        [ 'D',  'B',  'D',  'D',  'D']],\n",
    "\n",
    "       [[ 'B',  'B',  'B',  'B',  'E'],\n",
    "        [ 'D',  'D',  'D',  'D',  'D'],\n",
    "        [ 'B',  'D',   'A',  'D', 'D']]])\n",
    "Again, you don't need Numpy in this question."
   ]
  },
  {
   "cell_type": "code",
   "execution_count": null,
   "metadata": {},
   "outputs": [],
   "source": [
    "\n",
    "\n",
    "\n"
   ]
  }
 ],
 "metadata": {
  "kernelspec": {
   "display_name": "Python 3 (ipykernel)",
   "language": "python",
   "name": "python3"
  },
  "language_info": {
   "codemirror_mode": {
    "name": "ipython",
    "version": 3
   },
   "file_extension": ".py",
   "mimetype": "text/x-python",
   "name": "python",
   "nbconvert_exporter": "python",
   "pygments_lexer": "ipython3",
   "version": "3.12.4"
  }
 },
 "nbformat": 4,
 "nbformat_minor": 4
}
